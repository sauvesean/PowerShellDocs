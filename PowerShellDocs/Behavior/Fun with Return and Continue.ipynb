{
    "metadata": {
        "kernelspec": {
            "name": ".net-powershell",
            "display_name": ".NET (PowerShell)",
            "language": "PowerShell"
        },
        "language_info": {
            "name": "PowerShell",
            "version": "7.0",
            "mimetype": "text/x-powershell",
            "file_extension": ".ps1",
            "pygments_lexer": "powershell"
        },
        "polyglot_notebook": {
            "kernelInfo": {
                "defaultKernelName": "powershell",
                "items": [
                    {
                        "aliases": [],
                        "name": "powershell"
                    }
                ]
            }
        }
    },
    "nbformat_minor": 2,
    "nbformat": 4,
    "cells": [
        {
            "cell_type": "markdown",
            "source": [
                "**<u>Fun with Return and Continue!</u>**\n",
                "\n",
                "The notebook will help document when to use return and continue effectively.\n",
                "\n",
                "<span style=\"color: var(--vscode-foreground);\">Often when an unexpected exception occurs in a function, we want to end the function early and rely on the \"return\" keyword.&nbsp;\n",
                "\n",
                "Let's assume we don't want to use \"throw\" to cause a script terminating error, and any of these examples could use Write-Error for a non-terminating error instead of Write-Warning.&nbsp; While we can (and probably should) use $PSCmdlet.ThrowTerminatingError() for much of the flow control, this requires us to create an error record, which is a lot more manual work.</span>\n",
                "\n",
                "Some great articles:\n",
                "\n",
                "[The PowerShell return keyword | mikefrobbins.com](https:\\mikefrobbins.com\\2015\\07\\23\\the-powershell-return-keyword\\)\n",
                "\n",
                "[Flow control - PowerShell | Microsoft Learn](https:\\learn.microsoft.com\\en-us\\powershell\\scripting\\learn\\ps101\\06-flow-control?view=powershell-7.4#break-continue-and-return)"
            ],
            "metadata": {
                "azdata_cell_guid": "88d3e9c8-b149-4357-add1-e29a07eaed29"
            },
            "attachments": {}
        },
        {
            "cell_type": "code",
            "source": [
                "function Get-Stuff1 {\n",
                "    param(\n",
                "        [string]$InputObject\n",
                "    )\n",
                "    Write-Host \"Starting: $InputObject\"\n",
                "    if ($InputObject -eq 'z') {\n",
                "        Write-Warning \"We shouldn't continue\"\n",
                "        return\n",
                "    }\n",
                "    Write-Host \"Rest of the code\"\n",
                "}\n",
                "Get-Stuff1 -InputObject 'a'\n",
                "Get-Stuff1 -InputObject 'z'\n"
            ],
            "metadata": {
                "azdata_cell_guid": "2864e8f1-c82b-4102-a54c-19cf38bb9b27",
                "language": "powershell",
                "vscode": {
                    "languageId": "powershell"
                }
            },
            "outputs": [],
            "execution_count": 3
        },
        {
            "cell_type": "markdown",
            "source": [
                "This works great!  We can also use it in the same way for expected values to accomplish simple flow control, which can make complex case switching easier.\n",
                "\n",
                "The \"return\" keyword is \"designed to exit out of the existing scope\" and differs from continue and break in that it ignores loops and is looking at the script block."
            ],
            "metadata": {
                "azdata_cell_guid": "d300ffb4-3e44-4661-9b51-ce1a24f98d50"
            },
            "attachments": {}
        },
        {
            "cell_type": "code",
            "source": [
                "function Get-Stuff2 {\n",
                "    Write-Host \"Start of 'continue' example\"\n",
                "    $Values = @(1, 2, 3)\n",
                "    foreach ($Value in $Values) {\n",
                "        if ($Value -eq 2) {\n",
                "            continue\n",
                "        }\n",
                "        Write-Host $Value\n",
                "    }\n",
                "    Write-Host \"End of 'continue' example reached\"\n",
                "}\n",
                "function Get-Stuff3 {\n",
                "    Write-Host \"Start of 'break' example\"\n",
                "    $Values = @(1, 2, 3)\n",
                "    foreach ($Value in $Values) {\n",
                "        if ($Value -eq 2) {\n",
                "            break\n",
                "        }\n",
                "        Write-Host $Value\n",
                "    }\n",
                "    Write-Host \"End of 'break' example reached\"\n",
                "}\n",
                "function Get-Stuff4 {\n",
                "    Write-Host \"Start of 'return' example\"\n",
                "    $Values = @(1, 2, 3)\n",
                "    foreach ($Value in $Values) {\n",
                "        if ($Value -eq 2) {\n",
                "            return\n",
                "        }\n",
                "        Write-Host $Value\n",
                "    }\n",
                "    Write-Host \"End of 'return' example reached\"\n",
                "}\n",
                "Get-Stuff2\n",
                "Get-Stuff3\n",
                "Get-Stuff4"
            ],
            "metadata": {
                "azdata_cell_guid": "2e1e7180-6669-40cc-8a9d-833b482ad4d1",
                "language": "powershell",
                "vscode": {
                    "languageId": "powershell"
                }
            },
            "outputs": [],
            "execution_count": 2
        },
        {
            "cell_type": "markdown",
            "source": [
                "We can see that using continue skips only the \"2\" but still prints \"3,\" whereas break exists the foreach entirely.  Return exits the entire function.  Do and while behave in the same way.  ForEach-Object behaves differently, which we will get to.\n",
                "\n",
                "For now, let's look at an edge case for \"return.\"  If we are using the begin/process/end blocks in an advanced function, \"return\" only exists the current block."
            ],
            "metadata": {
                "azdata_cell_guid": "479d914c-5104-4aab-947e-2a825848ceae"
            },
            "attachments": {}
        },
        {
            "cell_type": "code",
            "source": [
                "function Get-Stuff5 {\n",
                "    [CmdletBinding()]\n",
                "    param (\n",
                "        [Parameter(ValueFromPipeline)][string]$InputObject,\n",
                "        [switch]$StopEarly\n",
                "    )\n",
                "    begin {\n",
                "        Write-Host \"Started begin\"\n",
                "        if ($StopEarly) {\n",
                "            Write-Warning \"Stopping early due to failed condition\"\n",
                "            return\n",
                "        }\n",
                "        Write-Host \"We're not stopping early\"\n",
                "    }\n",
                "    process {\n",
                "        Write-Host \"Processing $InputObject\"\n",
                "    }\n",
                "    end {\n",
                "        Write-Host \"Reached end\"\n",
                "    }\n",
                "}\n",
                "@(1, 2, 3) | Get-Stuff5 -StopEarly"
            ],
            "metadata": {
                "azdata_cell_guid": "ed909a86-5398-47a9-b46b-aa81112e12f4",
                "language": "powershell",
                "vscode": {
                    "languageId": "powershell"
                }
            },
            "outputs": [],
            "execution_count": 4
        },
        {
            "cell_type": "markdown",
            "source": [
                "Return only stopped reading the begin block, even though a bad condition was found in the begin block.  It did it's job of exiting the \"current scope.\"  We can use continue _in this case_ to exit the entire function from the begin block."
            ],
            "metadata": {
                "azdata_cell_guid": "446e6f78-51c2-4214-a310-657f8bfc45a6"
            },
            "attachments": {}
        },
        {
            "cell_type": "code",
            "source": [
                "function Get-Stuff6 {\n",
                "    [CmdletBinding()]\n",
                "    param (\n",
                "        [Parameter(ValueFromPipeline)][string]$InputObject,\n",
                "        [switch]$StopEarly\n",
                "    )\n",
                "    begin {\n",
                "        Write-Host \"Started begin\"\n",
                "        if ($StopEarly) {\n",
                "            Write-Warning \"Stopping early due to failed condition\"\n",
                "            continue\n",
                "        }\n",
                "        Write-Host \"We're not stopping early\"\n",
                "    }\n",
                "    process {\n",
                "        Write-Host \"Processing $InputObject\"\n",
                "        \n",
                "    }\n",
                "    end {\n",
                "        Write-Host \"Reached end\"\n",
                "    }\n",
                "}\n",
                "@(1, 2, 3) | Get-Stuff6 -StopEarly"
            ],
            "metadata": {
                "azdata_cell_guid": "1fa6ac8d-0b2d-4dc4-88d7-4e1b638a1a6f",
                "language": "powershell",
                "vscode": {
                    "languageId": "powershell"
                }
            },
            "outputs": [],
            "execution_count": 7
        },
        {
            "cell_type": "markdown",
            "source": [
                "This works in the begin block, but we wouldn't want this behavior in the process block.  If an invalid condition is met in a single value for the input, the rest of the input should still be returned."
            ],
            "metadata": {
                "azdata_cell_guid": "4a9582bd-6b9c-4635-9687-742f364f4e60"
            },
            "attachments": {}
        },
        {
            "cell_type": "code",
            "source": [
                "function Get-Stuff7 {\n",
                "    [CmdletBinding()]\n",
                "    param (\n",
                "        [Parameter(ValueFromPipeline)][string]$InputObject\n",
                "    )\n",
                "    begin {\n",
                "        Write-Host \"Started begin\"\n",
                "    }\n",
                "    process {\n",
                "        if ($InputObject -eq 2) {\n",
                "            Write-Warning \"Stopping early due to failed condition\"\n",
                "            continue\n",
                "        }\n",
                "        Write-Host \"Processing $InputObject\"\n",
                "    }\n",
                "    end {\n",
                "        Write-Host \"Reached end\"\n",
                "    }\n",
                "}\n",
                "@(1, 2, 3) | Get-Stuff7"
            ],
            "metadata": {
                "azdata_cell_guid": "c128ead9-4de9-4758-8e09-7d1166530bb7",
                "language": "powershell",
                "vscode": {
                    "languageId": "powershell"
                }
            },
            "outputs": [],
            "execution_count": 10
        },
        {
            "cell_type": "markdown",
            "source": [
                "The 1st input ran succesfully.  The 2nd failed, and exited, which is great.  But what happened to the third input?  It's rare that a problem in the middle of a collection should cause inputs after _but not before_ to also be skipped.  Maybe that's the behavior you want for certain applications, but often not.  So how do we handle this?  In this case we have to use \"return\" again."
            ],
            "metadata": {
                "azdata_cell_guid": "956654a1-50ab-4077-a713-2e1a8c0716c3"
            },
            "attachments": {}
        },
        {
            "cell_type": "code",
            "source": [
                "function Get-Stuff8 {\n",
                "    [CmdletBinding()]\n",
                "    param (\n",
                "        [Parameter(ValueFromPipeline)][string]$InputObject\n",
                "    )\n",
                "    begin {\n",
                "        Write-Host \"Started begin\"\n",
                "    }\n",
                "    process {\n",
                "        if ($InputObject -eq 2) {\n",
                "            Write-Warning \"Stopping early due to failed condition\"\n",
                "            return\n",
                "        }\n",
                "        Write-Host \"Processing $InputObject\"\n",
                "    }\n",
                "    end {\n",
                "        Write-Host \"Reached end\"\n",
                "    }\n",
                "}\n",
                "@(1, 2, 3) | Get-Stuff8"
            ],
            "metadata": {
                "azdata_cell_guid": "514eac9f-4c3f-4ec6-be52-aded6cb9f418",
                "language": "powershell",
                "tags": [],
                "vscode": {
                    "languageId": "powershell"
                }
            },
            "outputs": [],
            "execution_count": 11
        },
        {
            "cell_type": "markdown",
            "source": [
                "When writing advanced functions that accept pipeline input, I often will also allow array values to be entered as simple parameters, instead of _forcing_ use of the pipeline.  This is accomplished by using a foreach inside the process block, and in this case we would want to use a continue again!"
            ],
            "metadata": {
                "azdata_cell_guid": "16a1308b-e46b-426b-97d7-eac76552b1b6"
            },
            "attachments": {}
        },
        {
            "cell_type": "code",
            "source": [
                "function Get-Stuff9 {\n",
                "    [CmdletBinding()]\n",
                "    param (\n",
                "        [Parameter(ValueFromPipeline)][int[]]$InputObject\n",
                "    )\n",
                "    begin {\n",
                "        Write-Host \"Started begin\"\n",
                "    }\n",
                "    process {\n",
                "        foreach ($item in $InputObject) {\n",
                "            if ($item -eq 2) {\n",
                "                Write-Warning \"Stopping early due to failed condition : $item\"\n",
                "                return\n",
                "            }\n",
                "            Write-Host \"Processing $item\"\n",
                "        }\n",
                "    }\n",
                "    end {\n",
                "        Write-Host \"Reached end\"\n",
                "    }\n",
                "}\n",
                "Write-Host \"Using pipeline\"\n",
                "1..3 | Get-Stuff9\n",
                "Write-Host \"Using parameter with array\"\n",
                "Get-Stuff9 -InputObject @(1..3)"
            ],
            "metadata": {
                "azdata_cell_guid": "36ccc3d9-a431-45d6-8431-6e5fb3a6dae7",
                "language": "powershell",
                "vscode": {
                    "languageId": "powershell"
                }
            },
            "outputs": [],
            "execution_count": 25
        },
        {
            "cell_type": "markdown",
            "source": [
                "Get-Stuff8 is why when stopping processing early for a single value in a ForEach-Object we should generally use return instead of continue."
            ],
            "metadata": {
                "azdata_cell_guid": "6b5769bb-fa8f-4d4e-acfb-02e26c211e4b"
            },
            "attachments": {}
        },
        {
            "cell_type": "code",
            "source": [
                "@(1, 2, 3) | ForEach-Object {\n",
                "    if ($_ -eq 2) {\n",
                "        Write-Warning \"Stopping early due to failed condition\"\n",
                "        return\n",
                "    }\n",
                "    Write-Host \"Processing $InputObject\"\n",
                "}"
            ],
            "metadata": {
                "azdata_cell_guid": "46f2a7de-7f81-4bb2-9f39-f788a36b306d",
                "language": "powershell",
                "vscode": {
                    "languageId": "powershell"
                }
            },
            "outputs": [],
            "execution_count": 12
        },
        {
            "cell_type": "markdown",
            "source": [
                "Where this breaks down is when trying to exiting functions early from within foreach in the begin block:"
            ],
            "metadata": {
                "azdata_cell_guid": "62166fd0-0c1f-4191-81bc-0d81828eb743"
            },
            "attachments": {}
        },
        {
            "cell_type": "code",
            "source": [
                "function Get-Stuff10 {\n",
                "    [CmdletBinding()]\n",
                "    param ()\n",
                "    begin {\n",
                "        # Check some elements first before ever entering the process block.\n",
                "        foreach ($i in 1..3) {\n",
                "            if ($i -eq 2) {\n",
                "                continue\n",
                "            }\n",
                "        }\n",
                "        Write-Host \"This is the begin block\"\n",
                "    }\n",
                "    process {\n",
                "        Write-Host \"This is the process block\"\n",
                "    }\n",
                "    end {\n",
                "        Write-Host \"This is the end block\"\n",
                "    }\n",
                "\n",
                "}\n",
                "Get-Stuff10"
            ],
            "metadata": {
                "azdata_cell_guid": "107eab43-64f3-44fa-b99a-6f1cca344fe4",
                "language": "powershell",
                "tags": [],
                "vscode": {
                    "languageId": "powershell"
                }
            },
            "outputs": [],
            "execution_count": 15
        },
        {
            "cell_type": "markdown",
            "source": [
                "We can't use continue in the begin block to exit the function when the continue is inside a loop.  In this case, we really should start thinking about using $PSCmdlet.ThrowTerminatingError(ErrorRecord); this is the next best thing,"
            ],
            "metadata": {
                "azdata_cell_guid": "92d6e8c9-6de6-46f5-a591-5074102b6cf9"
            },
            "attachments": {}
        },
        {
            "cell_type": "code",
            "source": [
                "function Get-Stuff11 {\n",
                "    [CmdletBinding()]\n",
                "    param ()\n",
                "    begin {\n",
                "        # Check some elements first before ever entering the process block.\n",
                "        $ExitEarly = $false\n",
                "        foreach ($i in 1..3) {\n",
                "            if ($i -eq 2) {\n",
                "                Write-Warning \"Problem condition met\"\n",
                "                $ExitEarly = $true\n",
                "                break\n",
                "            }\n",
                "        }\n",
                "        if ($ExitEarly) {\n",
                "            Write-Warning \"Exiting early\"\n",
                "            continue\n",
                "        }\n",
                "        Write-Host \"This is the begin block\"\n",
                "    }\n",
                "    process {\n",
                "        Write-Host \"This is the process block\"\n",
                "    }\n",
                "    end {\n",
                "        Write-Host \"This is the end block\"\n",
                "    }\n",
                "}\n",
                "Get-Stuff11"
            ],
            "metadata": {
                "azdata_cell_guid": "d23cb274-0617-4087-9f9e-3e50c51e0101",
                "language": "powershell",
                "vscode": {
                    "languageId": "powershell"
                }
            },
            "outputs": [],
            "execution_count": 1
        },
        {
            "cell_type": "markdown",
            "source": [
                "Let's see how the advent of \"clean\" affects our usage of \"continue\" to exit the function early."
            ],
            "metadata": {
                "azdata_cell_guid": "5509313a-2a7a-4910-9ce5-bee9f8936cba"
            },
            "attachments": {}
        },
        {
            "cell_type": "code",
            "source": [
                "function Get-Stuff12 {\n",
                "    [CmdletBinding()]\n",
                "    param ()\n",
                "    begin {\n",
                "        # Check some elements first before ever entering the process block.\n",
                "        $ExitEarly = $false\n",
                "        foreach ($i in 1..3) {\n",
                "            if ($i -eq 2) {\n",
                "                Write-Warning \"Problem condition met\"\n",
                "                $ExitEarly = $true\n",
                "                break\n",
                "            }\n",
                "        }\n",
                "        if ($ExitEarly) {\n",
                "            Write-Warning \"Exiting early\"\n",
                "            continue\n",
                "        }\n",
                "        Write-Host \"This is the begin block\"\n",
                "    }\n",
                "    process {\n",
                "        Write-Host \"This is the process block\"\n",
                "    }\n",
                "    end {\n",
                "        Write-Host \"This is the end block\"\n",
                "    }\n",
                "    clean {\n",
                "        Write-Host \"This is the clean block\"\n",
                "    }\n",
                "}\n",
                "Get-Stuff12"
            ],
            "metadata": {
                "azdata_cell_guid": "93c304b4-25a9-416a-bff6-dd60de5f0f40",
                "language": "powershell",
                "vscode": {
                    "languageId": "powershell"
                }
            },
            "outputs": [
                {
                    "output_type": "display_data",
                    "data": {
                        "text/html": "\r\n<div>\r\n    <div id='dotnet-interactive-this-cell-20792.Microsoft.DotNet.Interactive.Http.HttpPort' style='display: none'>\r\n        The below script needs to be able to find the current output cell; this is an easy method to get it.\r\n    </div>\r\n    <script type='text/javascript'>\r\nasync function probeAddresses(probingAddresses) {\r\n    function timeout(ms, promise) {\r\n        return new Promise(function (resolve, reject) {\r\n            setTimeout(function () {\r\n                reject(new Error('timeout'))\r\n            }, ms)\r\n            promise.then(resolve, reject)\r\n        })\r\n    }\r\n\r\n    if (Array.isArray(probingAddresses)) {\r\n        for (let i = 0; i < probingAddresses.length; i++) {\r\n\r\n            let rootUrl = probingAddresses[i];\r\n\r\n            if (!rootUrl.endsWith('/')) {\r\n                rootUrl = `${rootUrl}/`;\r\n            }\r\n\r\n            try {\r\n                let response = await timeout(1000, fetch(`${rootUrl}discovery`, {\r\n                    method: 'POST',\r\n                    cache: 'no-cache',\r\n                    mode: 'cors',\r\n                    timeout: 1000,\r\n                    headers: {\r\n                        'Content-Type': 'text/plain'\r\n                    },\r\n                    body: probingAddresses[i]\r\n                }));\r\n\r\n                if (response.status == 200) {\r\n                    return rootUrl;\r\n                }\r\n            }\r\n            catch (e) { }\r\n        }\r\n    }\r\n}\r\n\r\nfunction loadDotnetInteractiveApi() {\r\n    probeAddresses([\"http://10.160.13.47:2051/\", \"http://169.254.8.67:2051/\", \"http://127.0.0.1:2051/\"])\r\n        .then((root) => {\r\n        // use probing to find host url and api resources\r\n        // load interactive helpers and language services\r\n        let dotnetInteractiveRequire = require.config({\r\n        context: '20792.Microsoft.DotNet.Interactive.Http.HttpPort',\r\n                paths:\r\n            {\r\n                'dotnet-interactive': `${root}resources`\r\n                }\r\n        }) || require;\r\n\r\n            window.dotnetInteractiveRequire = dotnetInteractiveRequire;\r\n\r\n            window.configureRequireFromExtension = function(extensionName, extensionCacheBuster) {\r\n                let paths = {};\r\n                paths[extensionName] = `${root}extensions/${extensionName}/resources/`;\r\n                \r\n                let internalRequire = require.config({\r\n                    context: extensionCacheBuster,\r\n                    paths: paths,\r\n                    urlArgs: `cacheBuster=${extensionCacheBuster}`\r\n                    }) || require;\r\n\r\n                return internalRequire\r\n            };\r\n        \r\n            dotnetInteractiveRequire([\r\n                    'dotnet-interactive/dotnet-interactive'\r\n                ],\r\n                function (dotnet) {\r\n                    dotnet.init(window);\r\n                },\r\n                function (error) {\r\n                    console.log(error);\r\n                }\r\n            );\r\n        })\r\n        .catch(error => {console.log(error);});\r\n    }\r\n\r\n// ensure `require` is available globally\r\nif ((typeof(require) !==  typeof(Function)) || (typeof(require.config) !== typeof(Function))) {\r\n    let require_script = document.createElement('script');\r\n    require_script.setAttribute('src', 'https://cdnjs.cloudflare.com/ajax/libs/require.js/2.3.6/require.min.js');\r\n    require_script.setAttribute('type', 'text/javascript');\r\n    \r\n    \r\n    require_script.onload = function() {\r\n        loadDotnetInteractiveApi();\r\n    };\r\n\r\n    document.getElementsByTagName('head')[0].appendChild(require_script);\r\n}\r\nelse {\r\n    loadDotnetInteractiveApi();\r\n}\r\n\r\n    </script>\r\n</div>"
                    },
                    "metadata": {}
                },
                {
                    "output_type": "stream",
                    "name": "stdout",
                    "text": "\u001b[93mWARNING: Problem condition met\u001b[0m\n\u001b[93mWARNING: Exiting early\u001b[0m\nThis is the clean block\n"
                },
                {
                    "output_type": "error",
                    "ename": "Error",
                    "evalue": "Command failed: SubmitCode: function Get-Stuff12 { ...",
                    "traceback": [
                        "Command failed: SubmitCode: function Get-Stuff12 { ..."
                    ]
                }
            ],
            "execution_count": 1
        },
        {
            "cell_type": "markdown",
            "source": [
                "Let's now combine this with Write-Error, again avoiding throw because it's script terminating and $PSCmdlet.ThrowTerminatingError because it's a lot more work to build the error and we don't need that level of detail."
            ],
            "metadata": {
                "azdata_cell_guid": "f8436e8c-e0eb-4afd-ba0b-31bbdc1371cb"
            }
        },
        {
            "cell_type": "code",
            "source": [
                "function Get-Stuff13 {\n",
                "    [CmdletBinding()]\n",
                "    param ()\n",
                "    begin {\n",
                "        # Check some elements first before ever entering the process block.\n",
                "        $ExitEarly = $false\n",
                "        foreach ($i in 1..3) {\n",
                "            if ($i -eq 2) {\n",
                "                Write-Error \"Problem condition met\"\n",
                "                $ExitEarly = $true\n",
                "                break\n",
                "            }\n",
                "        }\n",
                "        if ($ExitEarly) {\n",
                "            Write-Warning \"Exiting early\"\n",
                "            continue\n",
                "        }\n",
                "        Write-Host \"This is the begin block\"\n",
                "    }\n",
                "    process {\n",
                "        Write-Host \"This is the process block\"\n",
                "    }\n",
                "    end {\n",
                "        Write-Host \"This is the end block\"\n",
                "    }\n",
                "    clean {\n",
                "        Write-Host \"This is the clean block\"\n",
                "    }\n",
                "}\n",
                "Get-Stuff13 -ErrorAction 'Stop'"
            ],
            "metadata": {
                "vscode": {
                    "languageId": "powershell"
                },
                "azdata_cell_guid": "9daee616-34af-4fe1-b0eb-2b9c93968574",
                "language": "powershell"
            },
            "outputs": [
                {
                    "output_type": "stream",
                    "name": "stdout",
                    "text": "This is the clean block\n\u001b[31;1mGet-Stuff13: \u001b[0m\n\u001b[31;1m\u001b[36;1mLine |\u001b[0m\n\u001b[31;1m\u001b[36;1m\u001b[36;1m  30 | \u001b[0m \u001b[36;1mGet-Stuff13 -ErrorAction 'Stop'\u001b[0m\n\u001b[31;1m\u001b[36;1m\u001b[36;1m\u001b[0m\u001b[36;1m\u001b[0m\u001b[36;1m     | \u001b[31;1m ~~~~~~~~~~~~~~~~~~~~~~~~~~~~~~~\u001b[0m\n\u001b[31;1m\u001b[36;1m\u001b[36;1m\u001b[0m\u001b[36;1m\u001b[0m\u001b[36;1m\u001b[31;1m\u001b[31;1m\u001b[36;1m     | \u001b[31;1mProblem condition met\u001b[0m\n"
                },
                {
                    "output_type": "error",
                    "ename": "Error",
                    "evalue": "Command failed: SubmitCode: function Get-Stuff13 { ...",
                    "traceback": [
                        "Command failed: SubmitCode: function Get-Stuff13 { ..."
                    ]
                }
            ],
            "execution_count": 10
        },
        {
            "cell_type": "markdown",
            "source": [
                "Here is how we would do it the \"proper\" way without using throw: $PSCmdlet.ThrowTerminatingError(ErrorRecord)"
            ],
            "metadata": {
                "azdata_cell_guid": "9a70f949-ae41-48cb-8c7a-851612a4eb4a"
            }
        },
        {
            "cell_type": "code",
            "source": [
                "function Get-Stuff13 {\n",
                "    [CmdletBinding()]\n",
                "    param ()\n",
                "    begin {\n",
                "        # Check some elements first before ever entering the process block.\n",
                "        foreach ($i in 1..3) {\n",
                "            if ($i -eq 2) {\n",
                "                $ErrorRecord = [System.Management.Automation.ErrorRecord]::new(\n",
                "                    (New-Object System.IO.FileNotFoundException 'Hit a problem'), # Message\n",
                "                    '2', # ErrorId\n",
                "                    [Management.Automation.ErrorCategory]::InvalidOperation, # ErrorCategory\n",
                "                    $null # TargetObject\n",
                "                )\n",
                "                $PSCmdlet.ThrowTerminatingError($ErrorRecord)\n",
                "            }\n",
                "        }\n",
                "        Write-Host \"This is the begin block\"\n",
                "    }\n",
                "    process { Write-Host \"This is the process block\" }\n",
                "    end { Write-Host \"This is the end block\" }\n",
                "    clean { Write-Host \"This is the clean block\" }\n",
                "}\n",
                "try {\n",
                "    Get-Stuff13 -ErrorAction 'Ignore'\n",
                "} catch {\n",
                "    Write-Host \"Caught an error\"\n",
                "}"
            ],
            "metadata": {
                "vscode": {
                    "languageId": "powershell"
                },
                "azdata_cell_guid": "3c7c41df-61ae-49c3-8069-125c4a6a1d29",
                "language": "powershell"
            },
            "outputs": [
                {
                    "output_type": "stream",
                    "name": "stdout",
                    "text": "This is the clean block\nCaught an error\n"
                },
                {
                    "output_type": "error",
                    "ename": "Error",
                    "evalue": "Command failed: SubmitCode: function Get-Stuff13 { ...",
                    "traceback": [
                        "Command failed: SubmitCode: function Get-Stuff13 { ..."
                    ]
                }
            ],
            "execution_count": 22
        }
    ]
}