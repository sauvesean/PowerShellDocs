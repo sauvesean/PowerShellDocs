{
    "metadata": {
        "kernelspec": {
            "name": "powershell",
            "display_name": "PowerShell",
            "language": "powershell"
        },
        "language_info": {
            "name": "powershell",
            "codemirror_mode": "shell",
            "mimetype": "text/x-sh",
            "file_extension": ".ps1"
        }
    },
    "nbformat_minor": 2,
    "nbformat": 4,
    "cells": [
        {
            "cell_type": "markdown",
            "source": [
                "**<u>Fun with Return and Continue!</u>**\n",
                "\n",
                "The notebook will help document when to use return and continue effectively.\n",
                "\n",
                "<span style=\"color: var(--vscode-foreground);\">Often when an unexpected exception occurs in a function, we want to end the function early and rely on the \"return\" keyword.</span>\n",
                "\n",
                "Some great articles:\n",
                "\n",
                "[The PowerShell return keyword | mikefrobbins.com](https:\\mikefrobbins.com\\2015\\07\\23\\the-powershell-return-keyword\\)\n",
                "\n",
                "[Flow control - PowerShell | Microsoft Learn](https:\\learn.microsoft.com\\en-us\\powershell\\scripting\\learn\\ps101\\06-flow-control?view=powershell-7.4#break-continue-and-return)"
            ],
            "metadata": {
                "azdata_cell_guid": "88d3e9c8-b149-4357-add1-e29a07eaed29"
            },
            "attachments": {}
        },
        {
            "cell_type": "code",
            "source": [
                "function Get-Stuff1 {\r\n",
                "    param(\r\n",
                "        [string]$InputObject\r\n",
                "    )\r\n",
                "    Write-Host \"Starting: $InputObject\"\r\n",
                "    if ($InputObject -eq 'z') {\r\n",
                "        Write-Warning \"We shouldn't continue\"\r\n",
                "        return\r\n",
                "    }\r\n",
                "    Write-Host \"Rest of the code\"\r\n",
                "}\r\n",
                "Get-Stuff1 -InputObject 'a'\r\n",
                "Get-Stuff1 -InputObject 'z'\r\n",
                ""
            ],
            "metadata": {
                "azdata_cell_guid": "2864e8f1-c82b-4102-a54c-19cf38bb9b27",
                "language": "powershell"
            },
            "outputs": [
                {
                    "output_type": "stream",
                    "name": "stdout",
                    "text": "Starting: a\r\n"
                },
                {
                    "output_type": "stream",
                    "name": "stdout",
                    "text": "Rest of the code\r\n"
                },
                {
                    "output_type": "stream",
                    "name": "stdout",
                    "text": "Starting: z\r\n"
                },
                {
                    "output_type": "stream",
                    "name": "stdout",
                    "text": "\u001b[93mWARNING: We shouldn't continue\u001b[0m\r\n"
                }
            ],
            "execution_count": 3
        },
        {
            "cell_type": "markdown",
            "source": [
                "This works great!  We can also use it in the same way for expected values to accomplish simple flow control, which can make complex case switching easier.\n",
                "\n",
                "The \"return\" keyword is \"designed to exit out of the existing scope\" and differs from continue and break in that it ignores loops and is looking at the script block."
            ],
            "metadata": {
                "azdata_cell_guid": "d300ffb4-3e44-4661-9b51-ce1a24f98d50"
            },
            "attachments": {}
        },
        {
            "cell_type": "code",
            "source": [
                "function Get-Stuff2 {\r\n",
                "    Write-Host \"Start of 'continue' example\"\r\n",
                "    $Values = @(1, 2, 3)\r\n",
                "    foreach ($Value in $Values) {\r\n",
                "        if ($Value -eq 2) {\r\n",
                "            continue\r\n",
                "        }\r\n",
                "        Write-Host $Value\r\n",
                "    }\r\n",
                "    Write-Host \"End of 'continue' example reached\"\r\n",
                "}\r\n",
                "function Get-Stuff3 {\r\n",
                "    Write-Host \"Start of 'break' example\"\r\n",
                "    $Values = @(1, 2, 3)\r\n",
                "    foreach ($Value in $Values) {\r\n",
                "        if ($Value -eq 2) {\r\n",
                "            break\r\n",
                "        }\r\n",
                "        Write-Host $Value\r\n",
                "    }\r\n",
                "    Write-Host \"End of 'break' example reached\"\r\n",
                "}\r\n",
                "function Get-Stuff4 {\r\n",
                "    Write-Host \"Start of 'return' example\"\r\n",
                "    $Values = @(1, 2, 3)\r\n",
                "    foreach ($Value in $Values) {\r\n",
                "        if ($Value -eq 2) {\r\n",
                "            return\r\n",
                "        }\r\n",
                "        Write-Host $Value\r\n",
                "    }\r\n",
                "    Write-Host \"End of 'return' example reached\"\r\n",
                "}\r\n",
                "Get-Stuff2\r\n",
                "Get-Stuff3\r\n",
                "Get-Stuff4"
            ],
            "metadata": {
                "azdata_cell_guid": "2e1e7180-6669-40cc-8a9d-833b482ad4d1",
                "language": "powershell"
            },
            "outputs": [
                {
                    "name": "stdout",
                    "text": "Start of 'continue' example\n1\n3\nEnd of 'continue' example reached\nStart of 'break' example\n1\nEnd of 'break' example reached\nStart of 'return' example\n1\n",
                    "output_type": "stream"
                }
            ],
            "execution_count": 2
        },
        {
            "cell_type": "markdown",
            "source": [
                "We can see that using continue skips only the \"2\" but still prints \"3,\" whereas break exists the foreach entirely.  Return exits the entire function.  Do and while behave in the same way.  ForEach-Object behaves differently, which we will get to.\n",
                "\n",
                "For now, let's look at an edge case for \"return.\"  If we are using the begin/process/end blocks in an advanced function, \"return\" only exists the current block."
            ],
            "metadata": {
                "azdata_cell_guid": "479d914c-5104-4aab-947e-2a825848ceae"
            },
            "attachments": {}
        },
        {
            "cell_type": "code",
            "source": [
                "function Get-Stuff5 {\r\n",
                "    [CmdletBinding()]\r\n",
                "    param (\r\n",
                "        [Parameter(ValueFromPipeline)][string]$InputObject,\r\n",
                "        [switch]$StopEarly\r\n",
                "    )\r\n",
                "    begin {\r\n",
                "        Write-Output \"Started begin\"\r\n",
                "        if ($StopEarly) {\r\n",
                "            Write-Warning \"Stopping early due to failed condition\"\r\n",
                "            return\r\n",
                "        }\r\n",
                "        Write-Output \"We're not stopping early\"\r\n",
                "    }\r\n",
                "    process {\r\n",
                "        Write-Output \"Processing $InputObject\"\r\n",
                "    }\r\n",
                "    end {\r\n",
                "        Write-Output \"Reached end\"\r\n",
                "    }\r\n",
                "}\r\n",
                "@(1, 2, 3) | Get-Stuff5 -StopEarly"
            ],
            "metadata": {
                "azdata_cell_guid": "ed909a86-5398-47a9-b46b-aa81112e12f4",
                "language": "powershell"
            },
            "outputs": [
                {
                    "name": "stdout",
                    "text": "Started begin\nWARNING: Stopping early due to failed condition\nProcessing 1\nProcessing 2\nProcessing 3\nReached end\n",
                    "output_type": "stream"
                }
            ],
            "execution_count": 4
        },
        {
            "cell_type": "markdown",
            "source": [
                "Return only stopped reading the begin block, even though a bad condition was found in the begin block.  It did it's job of exiting the \"current scope.\"  We can use continue _in this case_ to exit the entire function from the begin block."
            ],
            "metadata": {
                "azdata_cell_guid": "446e6f78-51c2-4214-a310-657f8bfc45a6"
            },
            "attachments": {}
        },
        {
            "cell_type": "code",
            "source": [
                "function Get-Stuff6 {\r\n",
                "    [CmdletBinding()]\r\n",
                "    param (\r\n",
                "        [Parameter(ValueFromPipeline)][string]$InputObject,\r\n",
                "        [switch]$StopEarly\r\n",
                "    )\r\n",
                "    begin {\r\n",
                "        Write-Output \"Started begin\"\r\n",
                "        if ($StopEarly) {\r\n",
                "            Write-Warning \"Stopping early due to failed condition\"\r\n",
                "            continue\r\n",
                "        }\r\n",
                "        Write-Output \"We're not stopping early\"\r\n",
                "    }\r\n",
                "    process {\r\n",
                "        Write-Output \"Processing $InputObject\"\r\n",
                "        \r\n",
                "    }\r\n",
                "    end {\r\n",
                "        Write-Output \"Reached end\"\r\n",
                "    }\r\n",
                "}\r\n",
                "@(1, 2, 3) | Get-Stuff6 -StopEarly"
            ],
            "metadata": {
                "azdata_cell_guid": "1fa6ac8d-0b2d-4dc4-88d7-4e1b638a1a6f",
                "language": "powershell"
            },
            "outputs": [
                {
                    "name": "stdout",
                    "text": "Started begin\nWARNING: Stopping early due to failed condition\n",
                    "output_type": "stream"
                },
                {
                    "name": "stdout",
                    "text": "",
                    "output_type": "stream"
                }
            ],
            "execution_count": 7
        },
        {
            "cell_type": "markdown",
            "source": [
                "This works in the begin block, but we wouldn't want this behavior in the process block.  If an invalid condition is met in a single value for the input, the rest of the input should still be returned."
            ],
            "metadata": {
                "azdata_cell_guid": "4a9582bd-6b9c-4635-9687-742f364f4e60"
            },
            "attachments": {}
        },
        {
            "cell_type": "code",
            "source": [
                "function Get-Stuff7 {\r\n",
                "    [CmdletBinding()]\r\n",
                "    param (\r\n",
                "        [Parameter(ValueFromPipeline)][string]$InputObject\r\n",
                "    )\r\n",
                "    begin {\r\n",
                "        Write-Output \"Started begin\"\r\n",
                "    }\r\n",
                "    process {\r\n",
                "        if ($InputObject -eq 2) {\r\n",
                "            Write-Warning \"Stopping early due to failed condition\"\r\n",
                "            continue\r\n",
                "        }\r\n",
                "        Write-Output \"Processing $InputObject\"\r\n",
                "    }\r\n",
                "    end {\r\n",
                "        Write-Output \"Reached end\"\r\n",
                "    }\r\n",
                "}\r\n",
                "@(1, 2, 3) | Get-Stuff7"
            ],
            "metadata": {
                "azdata_cell_guid": "c128ead9-4de9-4758-8e09-7d1166530bb7",
                "language": "powershell"
            },
            "outputs": [
                {
                    "name": "stdout",
                    "text": "Started begin\nProcessing 1\nWARNING: Stopping early due to failed condition\n",
                    "output_type": "stream"
                }
            ],
            "execution_count": 10
        },
        {
            "cell_type": "markdown",
            "source": [
                "The 1st input ran succesfully.  The 2nd failed, and exited, which is great.  But what happened to the third input?  It's rare that a problem in the middle of a collection should cause inputs after _but not before_ to also be skipped.  Maybe that's the behavior you want for certain applications, but often not.  So how do we handle this?  In this case we have to use \"return\" again."
            ],
            "metadata": {
                "azdata_cell_guid": "956654a1-50ab-4077-a713-2e1a8c0716c3"
            },
            "attachments": {}
        },
        {
            "cell_type": "code",
            "source": [
                "function Get-Stuff8 {\r\n",
                "    [CmdletBinding()]\r\n",
                "    param (\r\n",
                "        [Parameter(ValueFromPipeline)][string]$InputObject\r\n",
                "    )\r\n",
                "    begin {\r\n",
                "        Write-Output \"Started begin\"\r\n",
                "    }\r\n",
                "    process {\r\n",
                "        if ($InputObject -eq 2) {\r\n",
                "            Write-Warning \"Stopping early due to failed condition\"\r\n",
                "            return\r\n",
                "        }\r\n",
                "        Write-Output \"Processing $InputObject\"\r\n",
                "    }\r\n",
                "    end {\r\n",
                "        Write-Output \"Reached end\"\r\n",
                "    }\r\n",
                "}\r\n",
                "@(1, 2, 3) | Get-Stuff8"
            ],
            "metadata": {
                "azdata_cell_guid": "514eac9f-4c3f-4ec6-be52-aded6cb9f418",
                "language": "powershell",
                "tags": []
            },
            "outputs": [
                {
                    "name": "stdout",
                    "text": "Started begin\nProcessing 1\nWARNING: Stopping early due to failed condition\nProcessing 3\nReached end\n",
                    "output_type": "stream"
                }
            ],
            "execution_count": 11
        },
        {
            "cell_type": "markdown",
            "source": [
                "When writing advanced functions that accept pipeline input, I often will also allow array values to be entered as simple parameters, instead of _forcing_ use of the pipeline.  This is accomplished by using a foreach inside the process block, and in this case we would want to use a continue again!"
            ],
            "metadata": {
                "azdata_cell_guid": "16a1308b-e46b-426b-97d7-eac76552b1b6"
            },
            "attachments": {}
        },
        {
            "cell_type": "code",
            "source": [
                "function Get-Stuff9 {\r\n",
                "    [CmdletBinding()]\r\n",
                "    param (\r\n",
                "        [Parameter(ValueFromPipeline)][int[]]$InputObject\r\n",
                "    )\r\n",
                "    begin {\r\n",
                "        Write-Output \"Started begin\"\r\n",
                "    }\r\n",
                "    process {\r\n",
                "        foreach ($item in $InputObject) {\r\n",
                "            if ($item -eq 2) {\r\n",
                "                Write-Warning \"Stopping early due to failed condition : $item\"\r\n",
                "                return\r\n",
                "            }\r\n",
                "            Write-Output \"Processing $item\"\r\n",
                "        }\r\n",
                "    }\r\n",
                "    end {\r\n",
                "        Write-Output \"Reached end\"\r\n",
                "    }\r\n",
                "}\r\n",
                "Write-Host \"Using pipeline\"\r\n",
                "1..3 | Get-Stuff9\r\n",
                "Write-Host \"Using parameter with array\"\r\n",
                "Get-Stuff9 -InputObject @(1..3)"
            ],
            "metadata": {
                "azdata_cell_guid": "36ccc3d9-a431-45d6-8431-6e5fb3a6dae7",
                "language": "powershell"
            },
            "outputs": [
                {
                    "name": "stdout",
                    "text": "Using pipeline\nStarted begin\nProcessing 1\nWARNING: Stopping early due to failed condition : 2\nProcessing 3\nReached end\nUsing parameter with array\nStarted begin\nProcessing 1\nWARNING: Stopping early due to failed condition : 2\nReached end\n",
                    "output_type": "stream"
                }
            ],
            "execution_count": 25
        },
        {
            "cell_type": "markdown",
            "source": [
                "Get-Stuff8 is why when stopping processing early for a single value in a ForEach-Object we should generally use return instead of continue."
            ],
            "metadata": {
                "azdata_cell_guid": "6b5769bb-fa8f-4d4e-acfb-02e26c211e4b"
            },
            "attachments": {}
        },
        {
            "cell_type": "code",
            "source": [
                "@(1, 2, 3) | ForEach-Object {\r\n",
                "    if ($_ -eq 2) {\r\n",
                "        Write-Warning \"Stopping early due to failed condition\"\r\n",
                "        return\r\n",
                "    }\r\n",
                "    Write-Output \"Processing $InputObject\"\r\n",
                "}"
            ],
            "metadata": {
                "azdata_cell_guid": "46f2a7de-7f81-4bb2-9f39-f788a36b306d",
                "language": "powershell"
            },
            "outputs": [
                {
                    "name": "stdout",
                    "text": "Processing \nWARNING: Stopping early due to failed condition\nProcessing \n",
                    "output_type": "stream"
                }
            ],
            "execution_count": 12
        },
        {
            "cell_type": "markdown",
            "source": [
                "Exiting function early from within foreach in begin:"
            ],
            "metadata": {
                "azdata_cell_guid": "62166fd0-0c1f-4191-81bc-0d81828eb743"
            },
            "attachments": {}
        },
        {
            "cell_type": "code",
            "source": [
                "function Get-Stuff10 {\r\n",
                "    [CmdletBinding()]\r\n",
                "    param ()\r\n",
                "    begin {\r\n",
                "        # Check some elements first before ever entering the process block.\r\n",
                "        foreach ($i in 1..3) {\r\n",
                "            if ($i -eq 2) {\r\n",
                "                continue\r\n",
                "            }\r\n",
                "        }\r\n",
                "        Write-Output \"This is the begin block\"\r\n",
                "    }\r\n",
                "    process {\r\n",
                "        Write-Output \"This is the process block\"\r\n",
                "    }\r\n",
                "    end {\r\n",
                "        Write-Output \"This is the end block\"\r\n",
                "    }\r\n",
                "\r\n",
                "}\r\n",
                "Get-Stuff10"
            ],
            "metadata": {
                "azdata_cell_guid": "107eab43-64f3-44fa-b99a-6f1cca344fe4",
                "language": "powershell",
                "tags": []
            },
            "outputs": [
                {
                    "name": "stdout",
                    "text": "This is the begin block\nThis is the process block\nThis is the end block\n",
                    "output_type": "stream"
                }
            ],
            "execution_count": 15
        },
        {
            "cell_type": "markdown",
            "source": [
                "We can't use continue in the begin block to exit the function when the continue is inside a loop.  What do we do?  Here's what I would do.  I'm not sure if there is a better way."
            ],
            "metadata": {
                "azdata_cell_guid": "92d6e8c9-6de6-46f5-a591-5074102b6cf9"
            },
            "attachments": {}
        },
        {
            "cell_type": "code",
            "source": [
                "function Get-Stuff11 {\r\n",
                "    [CmdletBinding()]\r\n",
                "    param ()\r\n",
                "    begin {\r\n",
                "        # Check some elements first before ever entering the process block.\r\n",
                "        $ExitEarly = $false\r\n",
                "        foreach ($i in 1..3) {\r\n",
                "            if ($i -eq 2) {\r\n",
                "                $ExitEarly = $true\r\n",
                "                continue\r\n",
                "            }\r\n",
                "        }\r\n",
                "        if ($ExitEarly) {\r\n",
                "            Write-Output \"Exiting early\"\r\n",
                "            continue\r\n",
                "        }\r\n",
                "        Write-Output \"This is the begin block\"\r\n",
                "    }\r\n",
                "    process {\r\n",
                "        Write-Output \"This is the process block\"\r\n",
                "    }\r\n",
                "    end {\r\n",
                "        Write-Output \"This is the end block\"\r\n",
                "    }\r\n",
                "}\r\n",
                "Get-Stuff11"
            ],
            "metadata": {
                "azdata_cell_guid": "d23cb274-0617-4087-9f9e-3e50c51e0101",
                "language": "powershell"
            },
            "outputs": [
                {
                    "name": "stdout",
                    "text": "Exiting early\n",
                    "output_type": "stream"
                }
            ],
            "execution_count": 19
        }
    ]
}